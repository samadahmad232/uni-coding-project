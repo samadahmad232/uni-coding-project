{
  "cells": [
    {
      "cell_type": "markdown",
      "metadata": {
        "id": "d3o2US0ArcJc"
      },
      "source": [
        "# **Candidate Numbers: 2301435, 2300151, 2307521**"
      ]
    },
    {
      "cell_type": "markdown",
      "metadata": {
        "id": "XKff3d8cig_0"
      },
      "source": [
        "**Import the desired packages**"
      ]
    },
    {
      "cell_type": "code",
      "execution_count": null,
      "metadata": {
        "colab": {
          "background_save": true
        },
        "id": "blbBaZqdicQ9"
      },
      "outputs": [],
      "source": [
        "!pip install bs4\n",
        "!pip install requests\n",
        "!pip install yfinance\n",
        "import math\n",
        "import pandas as pd\n",
        "import numpy as np\n",
        "import datetime as dt\n",
        "import requests\n",
        "import json\n",
        "import seaborn as sns\n",
        "import yfinance as yf\n",
        "import matplotlib.pyplot as plt\n",
        "from scipy import stats\n",
        "import statsmodels.api as sm"
      ]
    },
    {
      "cell_type": "markdown",
      "metadata": {
        "id": "OLq-7zsE8fK3"
      },
      "source": [
        "# **Data Collection**\n",
        "\n"
      ]
    },
    {
      "cell_type": "markdown",
      "metadata": {
        "id": "USYf5-0s3nRs"
      },
      "source": [
        "**Get ticker Data from yahoo finance and define it as a function**"
      ]
    },
    {
      "cell_type": "code",
      "execution_count": null,
      "metadata": {
        "id": "Fiqr3tlkEOcF"
      },
      "outputs": [],
      "source": [
        "def ticker_data(ticker, start_date, end_date):\n",
        "    # Use the yf.Ticker() function to get the historical data for the specified ticker\n",
        "    ticker_data = yf.Ticker(ticker)\n",
        "    #Use the .history() method to get the historical data for the specified date range\n",
        "    ticker_data_history = ticker_data.history(start=start_date, end=end_date)\n",
        "    #Reset the index to convert the date index to a column\n",
        "    ticker_data_history = ticker_data_history.reset_index()\n",
        "    #Rename the \"index\" column to \"Date\"\n",
        "    ticker_data_history = ticker_data_history.rename(columns={\"index\": \"Date\"})\n",
        "    #Convert \"Date\" column to datetime type\n",
        "    ticker_data_history['Date'] = pd.to_datetime(ticker_data_history['Date']).dt.date\n",
        "\n",
        "    #Adds the ticker symbol to each column name in the dataframe\n",
        "    for col_name in ticker_data_history.columns[1:]:\n",
        "        new_col_name = col_name + \"_\" + ticker\n",
        "        ticker_data_history = ticker_data_history.rename(columns={col_name: new_col_name})\n",
        "\n",
        "    #Create the data frame\n",
        "    ticker_data_clean = ticker_data_history[[\"Date\", \"Open_\" + ticker, \"High_\" + ticker, \"Low_\" + ticker, \"Close_\" + ticker]]\n",
        "    df_ticker = pd.DataFrame(data=ticker_data_clean)\n",
        "\n",
        "    # Create the spread variable we want\n",
        "    spread = \"Spread_\" + ticker\n",
        "    df_ticker[spread] = df_ticker[\"High_\" + ticker] - df_ticker[\"Low_\" + ticker]\n",
        "\n",
        "    #Create log spread variable\n",
        "    log_spread = \"Log_Spread_\" + ticker\n",
        "    df_ticker[log_spread] = np.log(df_ticker[spread])\n",
        "\n",
        "    # Return daily % change in spread\n",
        "    df_ticker.fillna(value=0, inplace=True)\n",
        "    spread_pct_change = \"Spread_pct_change_\" + ticker\n",
        "    df_ticker[spread_pct_change] = df_ticker[spread].pct_change()\n",
        "\n",
        "    #filter for business days to keep consisten with forex days\n",
        "    df_ticker = df_ticker.set_index('Date').asfreq('B').reset_index()\n",
        "\n",
        "    #Set any na or infinite values to 0\n",
        "    df_ticker.replace([np.inf, -np.inf], 0, inplace=True)\n",
        "    df_ticker.fillna(value=0, inplace=True)\n",
        "\n",
        "\n",
        "\n",
        "    return df_ticker\n"
      ]
    },
    {
      "cell_type": "markdown",
      "metadata": {
        "id": "d_xK2ZqQOWYw"
      },
      "source": [
        "**Get the desired cyrpto and forex pairings**\n",
        "We shall use Bitcoin as the crypto since it is often cited the most and has the greatest financial instruments with BTC as the underlying asset, as well as using the top 5 forex pairings which account for roughly 55% of the total forex trading volume."
      ]
    },
    {
      "cell_type": "code",
      "execution_count": null,
      "metadata": {
        "id": "nIfXTAhOOWI6"
      },
      "outputs": [],
      "source": [
        "df_btc = ticker_data('BTC-USD','2015-01-01','2023-01-01')\n",
        "#top 5 forex pairings (in order)\n",
        "df_EUR_USD = ticker_data('EURUSD=X','2015-01-01','2023-01-01')\n",
        "df_USD_GBP = ticker_data('USDGBP=X','2015-01-01','2023-01-01')\n",
        "df_USD_JPY = ticker_data('USDJPY=X','2015-01-01','2023-01-01')\n",
        "df_AUD_USD = ticker_data('AUDUSD=X','2015-01-01','2023-01-01')\n",
        "df_USD_CAD = ticker_data('USDCAD=X','2015-01-01','2023-01-01')\n",
        "\n",
        "#merge dataframes\n",
        "from functools import reduce\n",
        "df_list = [df_btc, df_EUR_USD, df_USD_GBP, df_USD_JPY, df_AUD_USD, df_USD_CAD]\n",
        "df_merged = reduce(lambda left,right: pd.merge(left,right,on='Date', how='inner'), df_list)"
      ]
    },
    {
      "cell_type": "markdown",
      "metadata": {
        "id": "HCD8KC74Zl3F"
      },
      "source": [
        "**Get data for the further explanatory variables defined in our write-up**"
      ]
    },
    {
      "cell_type": "code",
      "execution_count": null,
      "metadata": {
        "colab": {
          "base_uri": "https://localhost:8080/",
          "height": 109
        },
        "id": "Npop-2Pxade-",
        "outputId": "d8e61cf3-27d7-4ed7-f280-9f015945181a"
      },
      "outputs": [
        {
          "data": {
            "text/html": [
              "\n",
              "     <input type=\"file\" id=\"files-3a7c8e29-4ee1-439d-8aa9-0914ce456624\" name=\"files[]\" multiple disabled\n",
              "        style=\"border:none\" />\n",
              "     <output id=\"result-3a7c8e29-4ee1-439d-8aa9-0914ce456624\">\n",
              "      Upload widget is only available when the cell has been executed in the\n",
              "      current browser session. Please rerun this cell to enable.\n",
              "      </output>\n",
              "      <script>// Copyright 2017 Google LLC\n",
              "//\n",
              "// Licensed under the Apache License, Version 2.0 (the \"License\");\n",
              "// you may not use this file except in compliance with the License.\n",
              "// You may obtain a copy of the License at\n",
              "//\n",
              "//      http://www.apache.org/licenses/LICENSE-2.0\n",
              "//\n",
              "// Unless required by applicable law or agreed to in writing, software\n",
              "// distributed under the License is distributed on an \"AS IS\" BASIS,\n",
              "// WITHOUT WARRANTIES OR CONDITIONS OF ANY KIND, either express or implied.\n",
              "// See the License for the specific language governing permissions and\n",
              "// limitations under the License.\n",
              "\n",
              "/**\n",
              " * @fileoverview Helpers for google.colab Python module.\n",
              " */\n",
              "(function(scope) {\n",
              "function span(text, styleAttributes = {}) {\n",
              "  const element = document.createElement('span');\n",
              "  element.textContent = text;\n",
              "  for (const key of Object.keys(styleAttributes)) {\n",
              "    element.style[key] = styleAttributes[key];\n",
              "  }\n",
              "  return element;\n",
              "}\n",
              "\n",
              "// Max number of bytes which will be uploaded at a time.\n",
              "const MAX_PAYLOAD_SIZE = 100 * 1024;\n",
              "\n",
              "function _uploadFiles(inputId, outputId) {\n",
              "  const steps = uploadFilesStep(inputId, outputId);\n",
              "  const outputElement = document.getElementById(outputId);\n",
              "  // Cache steps on the outputElement to make it available for the next call\n",
              "  // to uploadFilesContinue from Python.\n",
              "  outputElement.steps = steps;\n",
              "\n",
              "  return _uploadFilesContinue(outputId);\n",
              "}\n",
              "\n",
              "// This is roughly an async generator (not supported in the browser yet),\n",
              "// where there are multiple asynchronous steps and the Python side is going\n",
              "// to poll for completion of each step.\n",
              "// This uses a Promise to block the python side on completion of each step,\n",
              "// then passes the result of the previous step as the input to the next step.\n",
              "function _uploadFilesContinue(outputId) {\n",
              "  const outputElement = document.getElementById(outputId);\n",
              "  const steps = outputElement.steps;\n",
              "\n",
              "  const next = steps.next(outputElement.lastPromiseValue);\n",
              "  return Promise.resolve(next.value.promise).then((value) => {\n",
              "    // Cache the last promise value to make it available to the next\n",
              "    // step of the generator.\n",
              "    outputElement.lastPromiseValue = value;\n",
              "    return next.value.response;\n",
              "  });\n",
              "}\n",
              "\n",
              "/**\n",
              " * Generator function which is called between each async step of the upload\n",
              " * process.\n",
              " * @param {string} inputId Element ID of the input file picker element.\n",
              " * @param {string} outputId Element ID of the output display.\n",
              " * @return {!Iterable<!Object>} Iterable of next steps.\n",
              " */\n",
              "function* uploadFilesStep(inputId, outputId) {\n",
              "  const inputElement = document.getElementById(inputId);\n",
              "  inputElement.disabled = false;\n",
              "\n",
              "  const outputElement = document.getElementById(outputId);\n",
              "  outputElement.innerHTML = '';\n",
              "\n",
              "  const pickedPromise = new Promise((resolve) => {\n",
              "    inputElement.addEventListener('change', (e) => {\n",
              "      resolve(e.target.files);\n",
              "    });\n",
              "  });\n",
              "\n",
              "  const cancel = document.createElement('button');\n",
              "  inputElement.parentElement.appendChild(cancel);\n",
              "  cancel.textContent = 'Cancel upload';\n",
              "  const cancelPromise = new Promise((resolve) => {\n",
              "    cancel.onclick = () => {\n",
              "      resolve(null);\n",
              "    };\n",
              "  });\n",
              "\n",
              "  // Wait for the user to pick the files.\n",
              "  const files = yield {\n",
              "    promise: Promise.race([pickedPromise, cancelPromise]),\n",
              "    response: {\n",
              "      action: 'starting',\n",
              "    }\n",
              "  };\n",
              "\n",
              "  cancel.remove();\n",
              "\n",
              "  // Disable the input element since further picks are not allowed.\n",
              "  inputElement.disabled = true;\n",
              "\n",
              "  if (!files) {\n",
              "    return {\n",
              "      response: {\n",
              "        action: 'complete',\n",
              "      }\n",
              "    };\n",
              "  }\n",
              "\n",
              "  for (const file of files) {\n",
              "    const li = document.createElement('li');\n",
              "    li.append(span(file.name, {fontWeight: 'bold'}));\n",
              "    li.append(span(\n",
              "        `(${file.type || 'n/a'}) - ${file.size} bytes, ` +\n",
              "        `last modified: ${\n",
              "            file.lastModifiedDate ? file.lastModifiedDate.toLocaleDateString() :\n",
              "                                    'n/a'} - `));\n",
              "    const percent = span('0% done');\n",
              "    li.appendChild(percent);\n",
              "\n",
              "    outputElement.appendChild(li);\n",
              "\n",
              "    const fileDataPromise = new Promise((resolve) => {\n",
              "      const reader = new FileReader();\n",
              "      reader.onload = (e) => {\n",
              "        resolve(e.target.result);\n",
              "      };\n",
              "      reader.readAsArrayBuffer(file);\n",
              "    });\n",
              "    // Wait for the data to be ready.\n",
              "    let fileData = yield {\n",
              "      promise: fileDataPromise,\n",
              "      response: {\n",
              "        action: 'continue',\n",
              "      }\n",
              "    };\n",
              "\n",
              "    // Use a chunked sending to avoid message size limits. See b/62115660.\n",
              "    let position = 0;\n",
              "    do {\n",
              "      const length = Math.min(fileData.byteLength - position, MAX_PAYLOAD_SIZE);\n",
              "      const chunk = new Uint8Array(fileData, position, length);\n",
              "      position += length;\n",
              "\n",
              "      const base64 = btoa(String.fromCharCode.apply(null, chunk));\n",
              "      yield {\n",
              "        response: {\n",
              "          action: 'append',\n",
              "          file: file.name,\n",
              "          data: base64,\n",
              "        },\n",
              "      };\n",
              "\n",
              "      let percentDone = fileData.byteLength === 0 ?\n",
              "          100 :\n",
              "          Math.round((position / fileData.byteLength) * 100);\n",
              "      percent.textContent = `${percentDone}% done`;\n",
              "\n",
              "    } while (position < fileData.byteLength);\n",
              "  }\n",
              "\n",
              "  // All done.\n",
              "  yield {\n",
              "    response: {\n",
              "      action: 'complete',\n",
              "    }\n",
              "  };\n",
              "}\n",
              "\n",
              "scope.google = scope.google || {};\n",
              "scope.google.colab = scope.google.colab || {};\n",
              "scope.google.colab._files = {\n",
              "  _uploadFiles,\n",
              "  _uploadFilesContinue,\n",
              "};\n",
              "})(self);\n",
              "</script> "
            ],
            "text/plain": [
              "<IPython.core.display.HTML object>"
            ]
          },
          "metadata": {},
          "output_type": "display_data"
        },
        {
          "name": "stdout",
          "output_type": "stream",
          "text": [
            "Saving BECI.csv to BECI.csv\n"
          ]
        },
        {
          "name": "stderr",
          "output_type": "stream",
          "text": [
            "/usr/local/lib/python3.9/dist-packages/pandas/core/arraylike.py:402: RuntimeWarning: divide by zero encountered in log\n",
            "  result = getattr(ufunc, method)(*inputs, **kwargs)\n"
          ]
        }
      ],
      "source": [
        "###UPLOAD the CSV file provided in the Zip file to access the data\n",
        "from google.colab import files\n",
        "uploaded = files.upload()\n",
        "import io\n",
        "df_btc_elec = pd.read_csv(io.BytesIO(uploaded['BECI.csv']),header=1)\n",
        "import io\n",
        "df_btc_elec = pd.read_csv(io.BytesIO(uploaded['BECI.csv']),header=1)\n",
        "df_btc_elec = df_btc_elec.rename(columns={'Date and Time': 'Date'})\n",
        "\n",
        "# convert \"Date\" column to datetime format\n",
        "df_btc_elec['Date'] = pd.to_datetime(df_btc_elec['Date'])\n",
        "\n",
        "# set start and end dates\n",
        "start_date = '2015-01-01'\n",
        "end_date = '2023-01-01'\n",
        "\n",
        "#filter the bitcoin electrcity DataFrame based on the start and end dates\n",
        "df_btc_elec = df_btc_elec[(df_btc_elec['Date'] >= start_date) & (df_btc_elec['Date'] < end_date)]\n",
        "\n",
        "#filter for business days to keep consistent with the other variable days\n",
        "df_btc_elec = df_btc_elec.set_index('Date').asfreq('B').reset_index()\n",
        "\n",
        "#additional variables for bond and market index per defined\n",
        "df_spy = ticker_data('SPY', '2015-01-01', '2023-01-01')\n",
        "df_fvx = ticker_data('^FVX', '2015-01-01', '2023-01-01')\n",
        "\n",
        "#combine btc electricity, bond and market index variables\n",
        "df_var_list = [df_btc,df_btc_elec,df_spy,df_fvx]\n",
        "df_var_list = reduce(lambda left,right: pd.merge(left,right,on='Date', how='inner'), df_var_list)"
      ]
    },
    {
      "cell_type": "markdown",
      "metadata": {
        "id": "hfgiR3ql8nLY"
      },
      "source": [
        "# **Data Visualisation**"
      ]
    },
    {
      "cell_type": "markdown",
      "metadata": {
        "id": "F9EuXUIJJuf6"
      },
      "source": [
        "**Create plot for the forex pair spread**"
      ]
    },
    {
      "cell_type": "code",
      "execution_count": null,
      "metadata": {
        "id": "KTSi1NS8rsfo"
      },
      "outputs": [],
      "source": [
        "# Create a figure and axis object\n",
        "sns.set_theme(style=\"ticks\")\n",
        "fig, ax = plt.subplots(figsize=(12,6))\n",
        "\n",
        "# Plot the Spread column for each forex pairing\n",
        "sns.lineplot(data=df_merged, x=\"Date\", y=\"Spread_EURUSD=X\", label=\"EUR/USD\", linewidth=0.8)\n",
        "sns.lineplot(data=df_merged, x=\"Date\", y=\"Spread_USDGBP=X\", label=\"USD/GBP\", linewidth=0.8)\n",
        "sns.lineplot(data=df_merged, x=\"Date\", y=\"Spread_AUDUSD=X\", label=\"AUD/USD\", linewidth=0.8)\n",
        "sns.lineplot(data=df_merged, x=\"Date\", y=\"Spread_USDCAD=X\", label=\"USD/CAD\", linewidth=0.8)\n",
        "\n",
        "#create 2nd axis for USDJPY since its too large\n",
        "ax2 = ax.twinx()\n",
        "sns.lineplot(data=df_merged, x=\"Date\", y=\"Spread_USDJPY=X\", label=\"USD/JPY\", linewidth=0.8,color='Purple')\n",
        "\n",
        "# Set the title and axis labels\n",
        "ax.set_title(\"Spread of Forex Pairings\")\n",
        "ax.set_xlabel(\"Date\")\n",
        "ax.set_ylabel(\"Spread\")\n",
        "\n",
        "# Set the legend\n",
        "ax.legend()\n",
        "ax2.legend(loc='upper center')\n",
        "\n",
        "# Set the title and axis labels\n",
        "ax2.set_title(\"Spread of Forex Pairings\")\n",
        "ax2.set_xlabel(\"Date\")\n",
        "ax2.set_ylabel(\"Spread for USD/JPY\")\n",
        "\n",
        "\n",
        "# Show the plot\n",
        "plt.show()"
      ]
    },
    {
      "cell_type": "markdown",
      "metadata": {
        "id": "C9IHK7rS8Q0Z"
      },
      "source": [
        "**Plot the forex and btc spreads in 1 figure**"
      ]
    },
    {
      "cell_type": "code",
      "execution_count": null,
      "metadata": {
        "id": "IcVv69IU34bU"
      },
      "outputs": [],
      "source": [
        "# Create a figure and axis object\n",
        "fig, axes = plt.subplots(nrows=3, ncols=2, figsize=(12,6))\n",
        "\n",
        "# Plot the Spread column for each forex pairing\n",
        "sns.lineplot(data=df_merged, x=\"Date\", y=\"Spread_EURUSD=X\", label=\"EUR/USD\", linewidth=0.8, ax=axes[0,0], color='red')\n",
        "sns.lineplot(data=df_merged, x=\"Date\", y=\"Spread_USDGBP=X\", label=\"USD/GBP\", linewidth=0.8, ax=axes[0,1],color='blue')\n",
        "sns.lineplot(data=df_merged, x=\"Date\", y=\"Spread_AUDUSD=X\", label=\"AUD/USD\", linewidth=0.8, ax=axes[1,0],color='green')\n",
        "sns.lineplot(data=df_merged, x=\"Date\", y=\"Spread_USDCAD=X\", label=\"USD/CAD\", linewidth=0.8, ax=axes[1,1],color='orange')\n",
        "sns.lineplot(data=df_merged, x=\"Date\", y=\"Spread_USDJPY=X\", label=\"USD/JPY\", linewidth=0.8, ax=axes[2,0], color='Purple')\n",
        "sns.lineplot(data=df_merged, x=\"Date\", y=\"Spread_BTC-USD\", label=\"BTC\", linewidth=0.8, ax=axes[2,1], color='turquoise')\n",
        "\n",
        "# Set the title and axis labels\n",
        "for ax in axes.flat:\n",
        "    ax.set_title(\"Spread\")\n",
        "    ax.set_xlabel(\"Date\")\n",
        "    ax.set_ylabel(\"Spread\")\n",
        "\n",
        "#clean up the spacings\n",
        "plt.subplots_adjust(wspace=0.5, hspace=1)\n",
        "# Show the plot\n",
        "plt.show()"
      ]
    },
    {
      "cell_type": "markdown",
      "metadata": {
        "id": "cgG3Dnou2bIb"
      },
      "source": [
        "**Show % change in spread**"
      ]
    },
    {
      "cell_type": "code",
      "execution_count": null,
      "metadata": {
        "id": "x1toQYitMnVE"
      },
      "outputs": [],
      "source": [
        "#Create a figure and axis object\n",
        "fig, ax = plt.subplots(figsize=(12,6))\n",
        "\n",
        "#Set the y limit since there are some outliers\n",
        "ax.set_ylim([0, 10])\n",
        "\n",
        "#Plot the Spread column for each forex pairing\n",
        "sns.lineplot(data=df_merged, x=\"Date\", y=\"Spread_pct_change_EURUSD=X\", label=\"EUR/USD\", linewidth=0.8)\n",
        "sns.lineplot(data=df_merged, x=\"Date\", y=\"Spread_pct_change_USDGBP=X\", label=\"USD/GBP\", linewidth=0.8)\n",
        "sns.lineplot(data=df_merged, x=\"Date\", y=\"Spread_pct_change_AUDUSD=X\", label=\"AUD/USD\", linewidth=0.8)\n",
        "sns.lineplot(data=df_merged, x=\"Date\", y=\"Spread_pct_change_USDCAD=X\", label=\"USD/CAD\", linewidth=0.8)\n",
        "sns.lineplot(data=df_merged, x=\"Date\", y=\"Spread_pct_change_USDJPY=X\", label=\"USD/JPY\", linewidth=0.8)\n",
        "\n",
        "#Set the title and axis labels\n",
        "ax.set_title(\"Spread % change in Forex Pairings\")\n",
        "ax.set_xlabel(\"Date\")\n",
        "ax.set_ylabel(\"Spread % change\")\n",
        "\n",
        "#Set the legend\n",
        "ax.legend()\n",
        "\n",
        "#Show the plot\n",
        "plt.show()"
      ]
    },
    {
      "cell_type": "markdown",
      "metadata": {
        "id": "JSBVZLY99G7b"
      },
      "source": [
        "**Show for bitcoin computing electricity consumption**"
      ]
    },
    {
      "cell_type": "code",
      "execution_count": null,
      "metadata": {
        "id": "LVRRLoBo9EBj"
      },
      "outputs": [],
      "source": [
        "#Create a figure and axis object\n",
        "fig, ax = plt.subplots(figsize=(12,6))\n",
        "\n",
        "#Plot the Spread column for each forex pairing\n",
        "sns.lineplot(data=df_var_list, x=\"Date\", y=\"Spread_BTC-USD\", label=\"BTC Spread\", linewidth=0.8, color='pink')\n",
        "\n",
        "#Set the title and axis labels\n",
        "ax.set_title(\"Spread change for BTC and BTC Electrcity consumption\")\n",
        "ax.set_xlabel(\"Date\")\n",
        "ax.set_ylabel(\"BTC Spread change\")\n",
        "\n",
        "#create 2nd axis for USDJPY since its too large\n",
        "ax2 = ax.twinx()\n",
        "sns.lineplot(data=df_var_list, x=\"Date\", y='annualised consumption GUESS, TWh', label=\"Annualised Electricity Consumption\", linewidth=0.8)\n",
        "\n",
        "#Set the legend\n",
        "ax.legend()\n",
        "ax2.legend(loc='upper left')\n",
        "\n",
        "#Show the plot\n",
        "plt.show()"
      ]
    },
    {
      "cell_type": "markdown",
      "metadata": {
        "id": "_6xOvIBknCqv"
      },
      "source": [
        "**ScatterPlot showing btc electrcity consumption and bitcoin spread**"
      ]
    },
    {
      "cell_type": "code",
      "execution_count": null,
      "metadata": {
        "id": "fCSK46VLpS2d"
      },
      "outputs": [],
      "source": [
        "# Create a linear regression plot\n",
        "sns.lmplot(x='annualised consumption GUESS, TWh', y='Spread_BTC-USD', data=df_var_list, height=6, aspect=2,line_kws={'color': 'orange'})\n",
        "\n",
        "# Set the title of the plot\n",
        "plt.title('Scatter Plot of BTC electricity consumption vs BTC spread')\n",
        "\n",
        "# Show the plot\n",
        "plt.show()\n"
      ]
    },
    {
      "cell_type": "markdown",
      "metadata": {
        "id": "PovoRMvJ82jP"
      },
      "source": [
        "# **Data Analysis**"
      ]
    },
    {
      "cell_type": "markdown",
      "metadata": {
        "id": "qHFDXDkYAgPa"
      },
      "source": [
        "**Multi-linear model with the forex pairs**"
      ]
    },
    {
      "cell_type": "code",
      "execution_count": null,
      "metadata": {
        "id": "oqrn0Oh3Sbaw"
      },
      "outputs": [],
      "source": [
        "# define the dependent variable (y) and independent variable (x)\n",
        "y = df_btc['Log_Spread_BTC-USD']\n",
        "\n",
        "#multi-linear variable with all 5\n",
        "x = df_merged[['Log_Spread_EURUSD=X','Log_Spread_USDGBP=X','Log_Spread_AUDUSD=X','Log_Spread_USDCAD=X','Log_Spread_USDJPY=X']]\n",
        "\n",
        "# create the multi-linear regression model\n",
        "multi_model = sm.OLS(y, x)\n",
        "\n",
        "# print the summary of the multi-model\n",
        "multi_model.fit().summary()"
      ]
    },
    {
      "cell_type": "markdown",
      "metadata": {
        "id": "J2a2ABCCXSRE"
      },
      "source": [
        "**Multi-linear model with the other explanatory variables**"
      ]
    },
    {
      "cell_type": "code",
      "execution_count": null,
      "metadata": {
        "id": "8IX1gT6EXXIi"
      },
      "outputs": [],
      "source": [
        "# define the dependent variable (y) and independent variable (x)\n",
        "y = df_var_list['Log_Spread_BTC-USD']\n",
        "\n",
        "#multi-linear variable with all 5\n",
        "x = df_var_list[['annualised consumption GUESS, TWh','Log_Spread_SPY','Log_Spread_^FVX']]\n",
        "\n",
        "# create the multi-linear regression model\n",
        "multi_model = sm.OLS(y, x)\n",
        "\n",
        "# print the summary of the multi-model\n",
        "multi_model.fit().summary()"
      ]
    }
  ],
  "metadata": {
    "colab": {
      "collapsed_sections": [
        "d3o2US0ArcJc",
        "OLq-7zsE8fK3",
        "hfgiR3ql8nLY",
        "PovoRMvJ82jP"
      ],
      "provenance": []
    },
    "kernelspec": {
      "display_name": "Python 3",
      "name": "python3"
    },
    "language_info": {
      "name": "python"
    }
  },
  "nbformat": 4,
  "nbformat_minor": 0
}